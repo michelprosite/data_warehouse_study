{
  "nbformat": 4,
  "nbformat_minor": 0,
  "metadata": {
    "colab": {
      "provenance": [],
      "toc_visible": true,
      "authorship_tag": "ABX9TyPImFTmcbpGH1yroKeeK+sa",
      "include_colab_link": true
    },
    "kernelspec": {
      "name": "python3",
      "display_name": "Python 3"
    },
    "language_info": {
      "name": "python"
    }
  },
  "cells": [
    {
      "cell_type": "markdown",
      "metadata": {
        "id": "view-in-github",
        "colab_type": "text"
      },
      "source": [
        "<a href=\"https://colab.research.google.com/github/michelprosite/data_warehouse/blob/main/Data_Warehouse.ipynb\" target=\"_parent\"><img src=\"https://colab.research.google.com/assets/colab-badge.svg\" alt=\"Open In Colab\"/></a>"
      ]
    },
    {
      "cell_type": "markdown",
      "source": [
        "# Data WareHuse\n",
        "## Michel Souza Santana"
      ],
      "metadata": {
        "id": "_vracvTcWfgj"
      }
    },
    {
      "cell_type": "markdown",
      "source": [
        "## Data Warehouse\n",
        "\n",
        "Um data warehouse, em português \"armazém de dados\", é um sistema utilizado para armazenar e gerenciar grandes volumes de dados de diferentes fontes, de modo a facilitar a análise e a tomada de decisões estratégicas por parte de uma organização. É uma estrutura centralizada que integra informações de várias fontes de dados, como bancos de dados transacionais, planilhas, sistemas de gerenciamento de relacionamento com o cliente (CRM) e outros sistemas.\n",
        "\n",
        "O objetivo principal de um data warehouse é permitir que os usuários finais, como gerentes, analistas e executivos, possam acessar e analisar dados de maneira eficiente. Os dados são organizados em um formato otimizado para consultas e análises, permitindo que os usuários obtenham insights valiosos e tomem decisões embasadas em informações confiáveis.\n",
        "\n",
        "As principais características de um data warehouse incluem:\n",
        "\n",
        "Integração de dados: Os dados de diferentes fontes são integrados em um único local, eliminando inconsistências e redundâncias.\n",
        "\n",
        "Armazenamento orientado por assunto: Os dados são organizados em torno de temas ou assuntos relevantes para a organização, facilitando a análise e o acesso.\n",
        "\n",
        "Estrutura dimensional: Os dados são modelados usando uma estrutura dimensional, como o modelo estrela ou o modelo floco de neve, que permite a fácil navegação e agregação dos dados.\n",
        "\n",
        "Desempenho otimizado: O data warehouse é projetado para fornecer consultas rápidas e eficientes, mesmo em grandes volumes de dados.\n",
        "\n",
        "Histórico de dados: O data warehouse geralmente mantém um histórico de dados, permitindo a análise de tendências ao longo do tempo.\n",
        "\n",
        "Separado do ambiente operacional: O data warehouse é uma estrutura separada do ambiente operacional da organização, evitando interferências e impactos na performance dos sistemas transacionais.\n",
        "\n",
        "Ao utilizar um data warehouse, as organizações podem obter uma visão holística de seus dados, identificar padrões, realizar análises avançadas e gerar relatórios para embasar a tomada de decisões estratégicas. Isso pode resultar em melhorias na eficiência operacional, identificação de oportunidades de negócios, compreensão do comportamento do cliente, entre outros benefícios.\n"
      ],
      "metadata": {
        "id": "1Von1RB7Wmca"
      }
    },
    {
      "cell_type": "markdown",
      "source": [
        "## Busines Intelligence\n",
        "\n",
        "Data Warehouse (DW) e Business Intelligence (BI) são conceitos relacionados que descrevem sistemas e processos usados para coletar, organizar, armazenar e analisar dados de uma organização, a fim de obter insights e apoiar a tomada de decisões.\n",
        "\n",
        "Um Data Warehouse é um repositório centralizado de dados que integra informações de diversas fontes, como bancos de dados operacionais, sistemas transacionais e aplicativos. Ele é projetado para fornecer um ambiente otimizado para análise e consulta de dados. O DW é construído usando um modelo de dados específico, como o modelo dimensional, que permite a fácil navegação e agregação dos dados. Os dados são organizados em torno de assuntos relevantes para a organização, como vendas, clientes, produtos, entre outros.\n",
        "\n",
        "Por outro lado, Business Intelligence (BI) refere-se ao conjunto de técnicas, ferramentas e processos utilizados para transformar os dados armazenados no Data Warehouse em informações úteis para os usuários finais. O BI envolve a extração, transformação e carga (ETL) dos dados do Data Warehouse, a criação de relatórios, dashboards, análises e visualizações interativas. O objetivo do BI é fornecer insights acionáveis e suporte à tomada de decisões estratégicas, ajudando os usuários a entender padrões, tendências e métricas de desempenho.\n",
        "\n",
        "A integração entre Data Warehouse e Business Intelligence é fundamental para criar um ambiente analítico eficiente e fornecer informações valiosas para os usuários. O Data Warehouse fornece a base de dados consolidada e estruturada para a análise, enquanto o BI aproveita esses dados para fornecer insights acionáveis e relatórios personalizados. As ferramentas de BI também podem permitir a exploração ad-hoc dos dados, permitindo que os usuários façam perguntas e realizem análises de maneira interativa.\n"
      ],
      "metadata": {
        "id": "QhucaC3MZlD7"
      }
    },
    {
      "cell_type": "markdown",
      "source": [
        "## OLTP & OLAP\n",
        "\n",
        "OLTP (Online Transaction Processing) e OLAP (Online Analytical Processing) são dois tipos distintos de sistemas de processamento de dados que desempenham funções diferentes em uma organização.\n",
        "\n",
        "OLTP se refere a sistemas de processamento de transações online. Esses sistemas são projetados para gerenciar transações de rotina em tempo real, como inserção, atualização e exclusão de registros em um banco de dados transacional. O foco principal do OLTP é a eficiência operacional e a manutenção de dados precisos e atualizados para suportar as operações diárias de uma organização. Exemplos de aplicativos OLTP incluem sistemas de vendas, sistemas de gestão de estoque e sistemas de reservas.\n",
        "\n",
        "Já o OLAP se refere a sistemas de processamento analítico online. Esses sistemas são projetados para análise e consulta de dados de forma flexível e multidimensional. O OLAP lida com grandes volumes de dados históricos e permite que os usuários explorem informações de diferentes perspectivas, realizem análises complexas e gerem relatórios interativos. O objetivo do OLAP é fornecer insights estratégicos e apoiar a tomada de decisões. Exemplos de aplicativos OLAP incluem ferramentas de Business Intelligence (BI) que permitem análises de dados, dashboards interativos e relatórios personalizados.\n",
        "\n",
        "As principais diferenças entre OLTP e OLAP são:\n",
        "\n",
        "Finalidade: O OLTP é focado em transações e processamento de dados em tempo real, enquanto o OLAP é focado em análise e consulta de dados históricos.\n",
        "\n",
        "Natureza dos dados: O OLTP lida com dados operacionais detalhados e em tempo real, enquanto o OLAP lida com dados agregados e históricos.\n",
        "\n",
        "Design de banco de dados: O OLTP geralmente usa um modelo de banco de dados relacional normalizado, otimizado para transações, enquanto o OLAP usa um modelo dimensional, otimizado para análises multidimensionais.\n",
        "\n",
        "Consultas e análises: O OLTP suporta consultas simples e rápidas para operações diárias, enquanto o OLAP suporta consultas complexas e análises ad-hoc para descobrir insights estratégicos."
      ],
      "metadata": {
        "id": "V23OeIuxbroH"
      }
    },
    {
      "cell_type": "markdown",
      "source": [
        "## Data Warehouse vs Data Mart\n",
        "\n",
        "Um Data Warehouse (DW) e um Data Mart são estruturas de armazenamento de dados que servem a finalidades semelhantes, mas possuem diferenças distintas em relação ao escopo e à abrangência dos dados armazenados.\n",
        "\n",
        "Um Data Warehouse é um repositório centralizado e integrado que armazena dados de várias fontes diferentes dentro de uma organização. O DW é projetado para fornecer uma visão ampla e abrangente dos dados, abrangendo toda a empresa. Ele integra dados de diferentes sistemas operacionais e pode conter informações históricas de longo prazo. O DW é normalmente construído usando um modelo dimensional e é otimizado para análises complexas e consultas ad-hoc. É usado para suportar análises de negócios de alto nível e tomada de decisões estratégicas.\n",
        "\n",
        "Por outro lado, um Data Mart é uma estrutura de armazenamento de dados derivada de um Data Warehouse, mas com um escopo mais limitado e focado em uma área de negócio específica. Um Data Mart contém uma seleção específica de dados do Data Warehouse que são relevantes para um departamento ou equipe de negócios específica. Os Data Marts são projetados para fornecer acesso rápido e eficiente aos dados relevantes para as necessidades analíticas de uma equipe ou departamento específico. Eles são frequentemente construídos em torno de um modelo dimensional específico para atender às necessidades de relatórios e análises de um domínio de negócios específico."
      ],
      "metadata": {
        "id": "mevYlHWMttf2"
      }
    },
    {
      "cell_type": "markdown",
      "source": [
        "## Modelo Entidade Relacionamento\n",
        "\n",
        "O Modelo Entidade-Relacionamento (ER) é uma abordagem para modelagem de dados que descreve as relações entre entidades em um sistema ou domínio. Foi introduzido por Peter Chen na década de 1970 e é amplamente utilizado na área de banco de dados e no projeto de sistemas de informação.\n",
        "\n",
        "No modelo ER, as entidades são objetos do mundo real, como pessoas, objetos, eventos, lugares, conceitos, etc., que são significativos para o domínio de dados em consideração. Essas entidades são representadas como retângulos no diagrama ER. Cada entidade possui atributos que descrevem suas características, representados como elipses ou retângulos associados à entidade.\n",
        "\n",
        "As relações entre as entidades são representadas por meio de associações, que indicam como as entidades estão relacionadas entre si. As associações são representadas como linhas ou setas que conectam as entidades. Podem ter cardinalidade, que especifica quantos objetos estão envolvidos na relação. Por exemplo, uma associação \"um-para-muitos\" indica que uma entidade se relaciona com várias instâncias de outra entidade.\n",
        "\n",
        "Além disso, o modelo ER também inclui conceitos como chaves primárias e chaves estrangeiras. Uma chave primária é um atributo ou conjunto de atributos que identifica exclusivamente cada instância de uma entidade. Uma chave estrangeira é um atributo que faz referência a uma chave primária em outra entidade, estabelecendo assim uma relação entre as entidades.\n",
        "\n",
        "Os diagramas ER são usados para visualizar e comunicar o modelo de dados. Eles mostram as entidades, seus atributos, as associações entre as entidades e as cardinalidades dessas associações. O modelo ER é usado como base para o projeto de um banco de dados relacional, onde as entidades, atributos e associações são mapeados para tabelas, colunas e relacionamentos."
      ],
      "metadata": {
        "id": "2efKkMEdwapg"
      }
    },
    {
      "cell_type": "markdown",
      "source": [
        "## Modelagem dimensional\n",
        "\n",
        "A modelagem dimensional é uma técnica de projeto de bancos de dados usada principalmente em Data Warehouses. Ela se concentra em organizar os dados de maneira que facilite a análise e a obtenção de informações úteis.\n",
        "\n",
        "Na modelagem dimensional, os dados são organizados em torno de \"dimensões\" e \"fatos\". As dimensões representam as características ou aspectos pelos quais os dados podem ser analisados, enquanto os fatos são as medidas numéricas que quantificam os dados. O objetivo é criar um modelo que permita que os usuários façam consultas e análises complexas de forma eficiente.\n",
        "\n",
        "Os principais componentes da modelagem dimensional são:\n",
        "\n",
        "* Tabela de fatos: É a tabela central do modelo e contém as medidas numéricas que representam os eventos ou transações que estão sendo analisados. Cada linha na tabela de fatos representa uma instância de um evento específico e contém chaves estrangeiras que se relacionam às dimensões.\n",
        "\n",
        "* Tabelas de dimensões: São tabelas que descrevem as características das entidades envolvidas nos eventos. Cada tabela de dimensão representa uma perspectiva específica dos dados e contém atributos que descrevem a dimensão. As tabelas de dimensões são vinculadas à tabela de fatos por meio de chaves estrangeiras.\n",
        " \n",
        "* Hierarquias: As dimensões podem ter hierarquias que representam a organização dos dados em diferentes níveis de detalhe. Por exemplo, uma dimensão de tempo pode ter hierarquias como ano, trimestre, mês e dia.\n",
        "\n",
        "* Cubo OLAP: É uma representação multidimensional dos dados, onde os eixos representam as dimensões e as células contêm os valores das medidas. Os cubos OLAP permitem que os usuários explorem os dados em diferentes perspectivas e realizem análises multidimensionais.\n",
        "\n",
        "A modelagem dimensional tem várias vantagens, incluindo:\n",
        "\n",
        "* Facilita a compreensão e a análise dos dados.\n",
        "* Melhora o desempenho das consultas e análises.\n",
        "* Permite uma navegação intuitiva pelos dados.\n",
        "* Suporta agregações e cálculos eficientes.\n",
        "* Possibilita a criação de relatórios e dashboards interativos."
      ],
      "metadata": {
        "id": "TUvmFJf9zqCt"
      }
    },
    {
      "cell_type": "markdown",
      "source": [
        "## Dados normalizados\n",
        "\n",
        "Dados normalizados referem-se a um processo de projeto de banco de dados em que as tabelas são organizadas de forma a minimizar a redundância e garantir a integridade dos dados. O objetivo da normalização é evitar anomalias de atualização, exclusão e inserção, além de promover a eficiência do armazenamento e facilitar a manutenção dos dados.\n",
        "\n",
        "A normalização é baseada nas chamadas formas normais, que são regras que definem as condições que uma tabela deve atender para ser considerada normalizada. As formas normais mais comumente utilizadas são a Primeira Forma Normal (1NF), a Segunda Forma Normal (2NF) e a Terceira Forma Normal (3NF), embora existam formas normais mais avançadas, como a Quarta Forma Normal (4NF) e a Quinta Forma Normal (5NF).\n",
        "\n",
        "Em geral, os princípios da normalização incluem:\n",
        "\n",
        "* Eliminar a duplicação de dados: Os dados duplicados são removidos das tabelas, evitando assim inconsistências e problemas de atualização.\n",
        "\n",
        "* Dividir dados em tabelas menores: As informações são divididas em tabelas menores e relacionadas, de modo que cada tabela trate de um único assunto.\n",
        "\n",
        "* Estabelecer chaves primárias: Cada tabela deve ter uma chave primária que identifica exclusivamente cada registro da tabela.\n",
        "\n",
        "* Resolver dependências funcionais: A normalização visa garantir que cada atributo dependa apenas da chave primária da tabela e não de outros atributos não chave.\n",
        "\n",
        "* Reduzir dependências transitivas: A normalização também trata de eliminar dependências transitivas, em que um atributo depende indiretamente de outro atributo dentro da tabela.\n",
        "\n",
        "Os benefícios da normalização incluem:\n",
        "\n",
        "* Redução da redundância de dados, o que economiza espaço de armazenamento.\n",
        "* Melhoria da integridade dos dados, evitando inconsistências.\n",
        "* Facilitação da manutenção dos dados, pois as alterações são feitas em um único local.\n",
        "* Melhoria do desempenho em algumas situações de consulta, devido à estrutura otimizada das tabelas normalizadas.\n",
        "\n",
        "No entanto, é importante notar que a normalização rigorosa pode levar a um aumento na complexidade das consultas e em alguns casos pode resultar em desempenho inferior para certas operações. Portanto, o processo de normalização deve ser equilibrado com os requisitos específicos do sistema e a natureza dos dados que estão sendo modelados."
      ],
      "metadata": {
        "id": "2vFAtfW_0HWy"
      }
    },
    {
      "cell_type": "markdown",
      "source": [
        "## Dados desnormalizados\n",
        "\n",
        "\n",
        "Dados desnormalizados referem-se a um método de design de banco de dados em que a estrutura das tabelas é propositalmente relaxada para melhorar o desempenho e simplificar as operações de consulta. Diferentemente da normalização, em que as tabelas são divididas em entidades menores e relacionadas para evitar redundância e garantir a integridade dos dados, a desnormalização busca consolidar os dados em estruturas mais simples e denormalizadas.\n",
        "\n",
        "A desnormalização é comumente usada em situações em que o desempenho é uma consideração crítica e onde a eficiência das operações de leitura é mais importante do que a eficiência das operações de gravação ou atualização. Alguns dos motivos pelos quais os dados podem ser desnormalizados incluem:\n",
        "\n",
        "* Melhoria do desempenho de leitura: A desnormalização pode reduzir a quantidade de junções necessárias em consultas complexas, o que pode melhorar significativamente o tempo de resposta.\n",
        "\n",
        "* Simplificação das consultas: Com dados desnormalizados, as consultas podem ser mais simples e diretas, pois todas as informações necessárias estão contidas em uma única tabela.\n",
        "\n",
        "* Redução do número de tabelas: A desnormalização pode levar a um número menor de tabelas, o que pode simplificar o esquema do banco de dados e facilitar a compreensão e a manutenção dos dados.\n",
        "\n",
        "* Facilitação da agregação de dados: Com dados desnormalizados, a agregação de informações é mais direta, pois as informações relevantes estão consolidadas em uma única tabela.\n",
        "\n",
        "* Melhoria do desempenho de escrita: A desnormalização pode reduzir a quantidade de operações de gravação necessárias, melhorando o desempenho de escrita.\n",
        "\n",
        "No entanto, a desnormalização também tem suas desvantagens, que incluem:\n",
        "\n",
        "* Aumento da redundância de dados, o que pode levar a inconsistências se as atualizações não forem gerenciadas corretamente.\n",
        "* Maior espaço de armazenamento necessário, pois os dados duplicados são armazenados em várias tabelas.\n",
        "* Aumento da complexidade na manutenção e atualização dos dados, pois as alterações precisam ser propagadas para várias tabelas.\n",
        "\n",
        "A desnormalização deve ser usada com cautela e considerando cuidadosamente os requisitos do sistema e as características dos dados. É importante equilibrar os benefícios de desempenho e simplicidade com as preocupações de integridade e manutenção dos dados. Em muitos casos, uma abordagem híbrida, combinando elementos de normalização e desnormalização, pode ser a melhor opção."
      ],
      "metadata": {
        "id": "bJ2JnDft0pcp"
      }
    },
    {
      "cell_type": "markdown",
      "source": [
        "## Star schema\n",
        "\n",
        "O Star Schema, ou Esquema Estrela, é um modelo de design de banco de dados utilizado na modelagem dimensional em Data Warehouses. Ele é chamado de \"Estrela\" devido à sua aparência visual, onde a tabela central de fatos está cercada por tabelas de dimensões, formando uma estrutura semelhante a uma estrela.\n",
        "\n",
        "No Star Schema, a tabela de fatos contém as métricas e medidas numéricas que representam os eventos ou transações que estão sendo analisados. Cada linha na tabela de fatos representa uma instância de um evento específico e contém chaves estrangeiras que se relacionam às dimensões.\n",
        "\n",
        "As tabelas de dimensões representam os atributos ou características pelas quais os dados podem ser analisados. Elas contêm as descrições detalhadas dessas dimensões e estão relacionadas à tabela de fatos por meio de chaves estrangeiras. Por exemplo, em um esquema de vendas, as dimensões podem incluir produtos, clientes, datas e locais.\n",
        "\n",
        "As principais características do Star Schema são:\n",
        "\n",
        "* Simplicidade: O Star Schema é simples e intuitivo de entender, facilitando a consulta e a análise dos dados.\n",
        "\n",
        "* Desempenho: Devido à sua estrutura simplificada, as consultas em um Star Schema são geralmente rápidas e eficientes, pois requerem menos junções e operações complexas.\n",
        "\n",
        "* Denormalização: O Star Schema geralmente envolve a desnormalização das tabelas de dimensões, consolidando os atributos relacionados em uma única tabela. Isso facilita a agregação de dados e a simplificação das consultas.\n",
        "\n",
        "* Flexibilidade: O Star Schema permite a adição fácil de novas dimensões ou métricas à medida que os requisitos de análise mudam.\n",
        "\n",
        "* Facilidade de compreensão: O modelo estrela é facilmente compreendido por usuários não técnicos devido à sua estrutura intuitiva.\n",
        "\n",
        "No entanto, o Star Schema também apresenta algumas desvantagens, como a redundância de dados nas tabelas de dimensões e a dificuldade de representar relacionamentos complexos entre dimensões.\n",
        "\n",
        "O Star Schema é amplamente utilizado em ambientes de Data Warehouse e é adequado para cenários em que a análise e a exploração dos dados são prioritárias. Ele oferece uma estrutura simples e eficiente para consultas e análises multidimensionais, facilitando a extração de informações valiosas para a tomada de decisões."
      ],
      "metadata": {
        "id": "nNXtmW_j1CLN"
      }
    },
    {
      "cell_type": "markdown",
      "source": [
        "## Tabela fato\n",
        "\n",
        "\n",
        "Uma tabela de fato (ou tabela de fatos) é uma tabela central em um modelo de banco de dados dimensional, como o esquema estrela ou o esquema de floco de neve, usado em Data Warehouses. A tabela de fato contém as métricas e medidas numéricas que representam os eventos ou transações que estão sendo analisados.\n",
        "\n",
        "A tabela de fato geralmente contém as seguintes características:\n",
        "\n",
        "* Chaves estrangeiras: Ela possui uma ou mais chaves estrangeiras que se relacionam às tabelas de dimensões. Essas chaves estrangeiras são usadas para conectar a tabela de fato às dimensões relevantes e permitir a análise multidimensional.\n",
        "\n",
        "* Medidas numéricas: A tabela de fato contém as medidas quantitativas que representam os eventos ou transações. Essas medidas podem ser valores de vendas, quantidade de produtos vendidos, custos, lucros, tempo decorrido, entre outros. Cada medida é armazenada em uma coluna separada na tabela de fato.\n",
        "\n",
        "* Chave primária: A tabela de fato pode ter uma chave primária composta por uma combinação das chaves estrangeiras e outras colunas que identificam exclusivamente cada registro na tabela de fato.\n",
        "\n",
        "* Registros repetidos: Como a tabela de fato está relacionada a várias dimensões, pode haver registros repetidos na tabela de fato para cada combinação de valores nas dimensões. Cada registro repetido representa uma instância específica do evento ou transação ocorrido.\n",
        "\n",
        "A tabela de fato é responsável por armazenar as informações numéricas e métricas importantes para análise e geração de relatórios. Ela fornece a base para consultas multidimensionais e permite a agregação de dados com base em diferentes combinações de dimensões.\n",
        "\n",
        "Além disso, a tabela de fato é conectada às tabelas de dimensões por meio de chaves estrangeiras, permitindo a realização de consultas complexas e análises multidimensionais. Através dessas consultas, é possível responder a perguntas de negócio, como \"Qual é o total de vendas por região e por produto?\" ou \"Qual é a receita por cliente e por mês?\"."
      ],
      "metadata": {
        "id": "YzeCiZwj2k0f"
      }
    },
    {
      "cell_type": "markdown",
      "source": [
        "## Tipos de tabelas fato\n",
        "\n",
        "\n",
        "Existem diferentes tipos de tabelas fato que podem ser utilizadas em um modelo de banco de dados dimensional, dependendo da natureza dos dados e dos requisitos de análise. Alguns dos tipos comuns de tabelas fato incluem:\n",
        "\n",
        "* Tabela Fato Transacional: É a forma mais básica de tabela fato, onde cada linha representa uma transação individual. Ela armazena as métricas e medidas numéricas relacionadas a cada transação. Por exemplo, em uma tabela fato de vendas, cada linha pode representar uma venda única, contendo informações como o valor da venda, a data e a hora da transação, as chaves estrangeiras para as dimensões de produto, cliente, local etc.\n",
        "\n",
        "* Tabela Fato Cumulativa: Essa tabela fato armazena as medidas cumulativas ao longo do tempo. Em vez de armazenar apenas as métricas para uma transação específica, ela mantém um registro acumulativo contínuo. Por exemplo, em uma tabela fato de vendas cumulativas, em vez de armazenar o valor de venda para cada transação individual, ela pode armazenar o valor acumulado de vendas para cada produto por mês.\n",
        "\n",
        "* Tabela Fato Snapshot: Essa tabela fato captura o estado dos dados em um determinado momento (snapshot) e é atualizada periodicamente. Ela fornece uma visão estática dos dados em um determinado ponto no tempo. Por exemplo, em uma tabela fato de estoque, um snapshot pode ser tirado diariamente para registrar a quantidade de produtos em estoque em um determinado dia.\n",
        "\n",
        "* Tabela Fato Agregada: Essa tabela fato armazena dados agregados ou resumidos que são calculados a partir de tabelas fato de nível mais detalhado. Ela é útil para consultas de alto desempenho, pois evita a necessidade de calcular agregações em tempo real. Por exemplo, em uma tabela fato de vendas, uma tabela fato agregada pode conter o total de vendas por mês e por região.\n",
        "\n",
        "* Tabela Fato Semiformalizada: Esse tipo de tabela fato combina elementos de tabelas fato transacionais e tabelas fato agregadas. Ela armazena dados detalhados para transações individuais, mas também inclui colunas agregadas para permitir consultas de desempenho mais rápido.\n",
        "\n",
        "É importante escolher o tipo adequado de tabela fato com base nos requisitos de análise e nas características dos dados. Algumas situações podem exigir múltiplas tabelas fato para abordar diferentes perspectivas e níveis de granularidade dos dados."
      ],
      "metadata": {
        "id": "OIzY06kF3WSL"
      }
    },
    {
      "cell_type": "markdown",
      "source": [
        "## Métricas\n",
        "\n",
        "As métricas são medidas quantitativas utilizadas para avaliar e quantificar o desempenho, a eficácia ou o resultado de uma determinada ação, processo ou sistema. Elas são amplamente utilizadas em diferentes áreas, como negócios, ciência, esportes, saúde, entre outros, para tomar decisões informadas e monitorar o progresso em relação a metas e objetivos.\n",
        "\n",
        "No contexto dos dados e da análise, as métricas desempenham um papel crucial na medição e avaliação do desempenho de modelos, algoritmos, estratégias e sistemas. Elas fornecem uma maneira objetiva de quantificar o sucesso ou a eficácia de uma abordagem específica.\n",
        "\n",
        "Aqui estão alguns exemplos de métricas comumente utilizadas em diferentes áreas:\n",
        "\n",
        "Métricas de Negócios:\n",
        "\n",
        "Receita: Total de vendas ou renda gerada por um negócio em um determinado período de tempo.\n",
        "* Lucro: Diferença entre a receita e os custos de produção ou operacionais.\n",
        "* Taxa de conversão: Porcentagem de visitantes de um site que realizam uma determinada ação desejada, como fazer uma compra.\n",
        "\n",
        "Métricas de Marketing:\n",
        "\n",
        "* Custo por aquisição (CPA): O custo médio de adquirir um novo cliente.\n",
        "* Retorno sobre o investimento (ROI): Mede a eficácia de uma campanha de marketing em relação ao valor gerado em retorno.\n",
        "\n",
        "Métricas de Saúde:\n",
        "\n",
        "* Taxa de mortalidade: Número de mortes por uma determinada doença ou condição em uma população.\n",
        "* Expectativa de vida: Média de anos que uma pessoa pode esperar viver em uma determinada região.\n",
        "\n",
        "Métricas de Desempenho Esportivo:\n",
        "\n",
        "* Pontuação: Número de pontos marcados por uma equipe ou atleta em uma competição.\n",
        "* Tempo: Mede a velocidade em que uma atividade ou evento é concluído, como uma corrida.\n",
        "\n",
        "Métricas de Machine Learning:\n",
        "\n",
        "* Acurácia: Porcentagem de previsões corretas feitas por um modelo.\n",
        "* Precisão: Porcentagem de resultados positivos corretamente identificados em relação a todos os resultados positivos previstos.\n",
        "\n",
        "Esses são apenas alguns exemplos de métricas amplamente utilizadas em diferentes contextos. Cada área pode ter suas próprias métricas específicas, dependendo dos objetivos e das medidas relevantes para avaliar o desempenho ou o resultado desejado. A escolha das métricas corretas é fundamental para uma avaliação precisa e uma tomada de decisão efetiva.\n",
        "\n",
        "As métricas podem ser classificadas em diferentes categorias com base em sua natureza e comportamento. Aqui estão as principais categorias de métricas:\n",
        "\n",
        "* Métricas Aditivas: \n",
        "\n",
        "São métricas em que os valores podem ser somados diretamente. Isso significa que a métrica de um conjunto de elementos é igual à soma das métricas individuais desses elementos. Exemplos de métricas aditivas incluem vendas totais, número de clientes e tempo total gasto em um processo.\n",
        "\n",
        "* Métricas Derivadas: \n",
        "\n",
        "São métricas que são calculadas a partir de outras métricas ou variáveis. Elas não são diretamente observadas, mas são derivadas ou calculadas usando fórmulas ou algoritmos específicos. Exemplos de métricas derivadas incluem margem de lucro (calculada a partir de receita e custo), taxa de conversão (calculada a partir do número de conversões e o número de visitantes) e média (calculada a partir de uma série de valores).\n",
        "\n",
        "* Métricas Semi-Aditivas: \n",
        "\n",
        "São métricas que podem ser somadas em algumas dimensões, mas não em outras. Isso ocorre quando a agregação dos valores não faz sentido ou não é possível em todas as dimensões. Por exemplo, em uma métrica de vendas, pode ser possível somar as vendas por produto, mas não faz sentido somar as vendas por região geográfica.\n",
        "\n",
        "* Métricas Não-Aditivas: \n",
        "\n",
        "São métricas em que a soma dos valores não fornece um significado relevante. Essas métricas não são adequadas para operações de agregação, pois a simples soma dos valores não representa a métrica em si. Um exemplo comum de uma métrica não-aditiva é a média. Somar os valores da média não resultará na média correta.\n",
        "\n",
        "A compreensão dessas categorias de métricas é importante ao trabalhar com dados e análises, pois ajuda a determinar como as métricas devem ser tratadas ao realizar operações de agregação ou cálculos em um conjunto de dados. Cada categoria de métrica requer uma abordagem específica para cálculo e manipulação adequados."
      ],
      "metadata": {
        "id": "Zt-A_b0c9bci"
      }
    },
    {
      "cell_type": "markdown",
      "source": [
        "## Tabelas de dimensão\n",
        "\n",
        "As tabelas de dimensão são componentes fundamentais de um modelo dimensional em um sistema de Data Warehouse. Elas são responsáveis por armazenar informações descritivas e contextuais que complementam os dados nas tabelas de fatos. As tabelas de dimensão fornecem uma estrutura para analisar e filtrar os dados nas tabelas de fatos, permitindo uma visão multidimensional dos dados.\n",
        "\n",
        "Aqui estão algumas características e exemplos de tabelas de dimensão:\n",
        "\n",
        "* Contêm atributos descritivos: As tabelas de dimensão contêm atributos que descrevem as características das entidades subjacentes. Por exemplo, em uma dimensão de produto, os atributos podem incluir nome do produto, categoria, preço, fabricante, etc.\n",
        "\n",
        "* Hierarquia de níveis: As tabelas de dimensão podem ter hierarquias de níveis que representam diferentes granularidades de dados. Por exemplo, em uma dimensão de tempo, os níveis hierárquicos podem incluir ano, trimestre, mês e dia.\n",
        "\n",
        "* Chaves de dimensão: Cada tabela de dimensão possui uma chave primária que a identifica exclusivamente. Essa chave é usada para estabelecer relacionamentos com as tabelas de fatos.\n",
        "\n",
        "* Dados estáticos: As tabelas de dimensão geralmente armazenam dados estáticos, que não mudam com frequência. Esses dados podem ser carregados durante o processo de carga inicial do Data Warehouse ou atualizados periodicamente.\n",
        "\n",
        "* Permitem a filtragem e agregação: As tabelas de dimensão são usadas para filtrar e restringir os dados nas tabelas de fatos com base em diferentes atributos e hierarquias. Elas também são usadas para realizar agregações e cálculos em diferentes níveis de granularidade.\n",
        "\n",
        "Exemplos comuns de tabelas de dimensão incluem dimensões de tempo, produto, cliente, local, funcionário, entre outras, dependendo do domínio do negócio e dos dados que estão sendo modelados. Essas tabelas são essenciais para a criação de um modelo dimensional robusto e fornecem a estrutura necessária para realizar análises e consultas complexas em um ambiente de Data Warehouse.\n",
        "\n",
        "### Tipos de Tabelas Dimensão\n",
        "\n",
        "* Tabela de Dimensão de Variação Lenta (Slowly Changing Dimension - SCD): Essa tabela é usada quando os atributos da dimensão podem mudar ao longo do tempo, mas as alterações ocorrem em um ritmo lento. Existem diferentes abordagens para lidar com as mudanças, como SCD Tipo 1 (sobrescrever os valores antigos), SCD Tipo 2 (manter um histórico dos valores) e SCD Tipo 3 (manter um valor antigo e um novo valor).\n",
        "\n",
        "* Tabela de Dimensão Degenerada: Essa tabela contém atributos de dimensão que são armazenados diretamente na tabela de fatos, em vez de criar uma tabela de dimensão separada. Isso ocorre quando os atributos de dimensão são simples e não possuem uma granularidade mais detalhada.\n",
        "\n",
        "* Tabela de Dimensão com Múltiplos Objetos: Essa tabela de dimensão é usada quando uma única tabela de dimensão representa mais de um objeto ou entidade. Por exemplo, uma tabela de dimensão pode representar tanto produtos quanto clientes, com atributos específicos para cada objeto.\n",
        "\n",
        "* Tabela de Dimensão Conformada: Essa tabela de dimensão é compartilhada por diferentes tabelas de fatos em um modelo dimensional. Ela é projetada de forma consistente e padronizada para garantir a integridade e a consistência dos dados compartilhados entre as diferentes tabelas de fatos.\n",
        "\n",
        "* Tabela de Dimensão \"Lixo\" (Junk Dimension): Essa tabela é usada para armazenar atributos de dimensão com baixa cardinalidade ou com valores não relacionados diretamente a uma única dimensão. Esses atributos são agrupados em uma única tabela, evitando a necessidade de criar várias tabelas de dimensão para cada atributo com baixa cardinalidade."
      ],
      "metadata": {
        "id": "8EO_291z-yZS"
      }
    },
    {
      "cell_type": "code",
      "source": [],
      "metadata": {
        "id": "q5IFohzB07Rw"
      },
      "execution_count": null,
      "outputs": []
    }
  ]
}