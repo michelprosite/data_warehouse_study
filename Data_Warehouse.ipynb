{
  "nbformat": 4,
  "nbformat_minor": 0,
  "metadata": {
    "colab": {
      "provenance": [],
      "authorship_tag": "ABX9TyOr2ypb+mtYUOh2+fcTq+07",
      "include_colab_link": true
    },
    "kernelspec": {
      "name": "python3",
      "display_name": "Python 3"
    },
    "language_info": {
      "name": "python"
    }
  },
  "cells": [
    {
      "cell_type": "markdown",
      "metadata": {
        "id": "view-in-github",
        "colab_type": "text"
      },
      "source": [
        "<a href=\"https://colab.research.google.com/github/michelprosite/data_warehouse/blob/main/Data_Warehouse.ipynb\" target=\"_parent\"><img src=\"https://colab.research.google.com/assets/colab-badge.svg\" alt=\"Open In Colab\"/></a>"
      ]
    },
    {
      "cell_type": "markdown",
      "source": [
        "# Data WareHuse\n",
        "## Michel Souza Santana"
      ],
      "metadata": {
        "id": "_vracvTcWfgj"
      }
    },
    {
      "cell_type": "markdown",
      "source": [
        "## # Data WareHuse\n",
        "\n",
        "Um data warehouse, em português \"armazém de dados\", é um sistema utilizado para armazenar e gerenciar grandes volumes de dados de diferentes fontes, de modo a facilitar a análise e a tomada de decisões estratégicas por parte de uma organização. É uma estrutura centralizada que integra informações de várias fontes de dados, como bancos de dados transacionais, planilhas, sistemas de gerenciamento de relacionamento com o cliente (CRM) e outros sistemas.\n",
        "\n",
        "O objetivo principal de um data warehouse é permitir que os usuários finais, como gerentes, analistas e executivos, possam acessar e analisar dados de maneira eficiente. Os dados são organizados em um formato otimizado para consultas e análises, permitindo que os usuários obtenham insights valiosos e tomem decisões embasadas em informações confiáveis.\n",
        "\n",
        "As principais características de um data warehouse incluem:\n",
        "\n",
        "Integração de dados: Os dados de diferentes fontes são integrados em um único local, eliminando inconsistências e redundâncias.\n",
        "\n",
        "Armazenamento orientado por assunto: Os dados são organizados em torno de temas ou assuntos relevantes para a organização, facilitando a análise e o acesso.\n",
        "\n",
        "Estrutura dimensional: Os dados são modelados usando uma estrutura dimensional, como o modelo estrela ou o modelo floco de neve, que permite a fácil navegação e agregação dos dados.\n",
        "\n",
        "Desempenho otimizado: O data warehouse é projetado para fornecer consultas rápidas e eficientes, mesmo em grandes volumes de dados.\n",
        "\n",
        "Histórico de dados: O data warehouse geralmente mantém um histórico de dados, permitindo a análise de tendências ao longo do tempo.\n",
        "\n",
        "Separado do ambiente operacional: O data warehouse é uma estrutura separada do ambiente operacional da organização, evitando interferências e impactos na performance dos sistemas transacionais.\n",
        "\n",
        "Ao utilizar um data warehouse, as organizações podem obter uma visão holística de seus dados, identificar padrões, realizar análises avançadas e gerar relatórios para embasar a tomada de decisões estratégicas. Isso pode resultar em melhorias na eficiência operacional, identificação de oportunidades de negócios, compreensão do comportamento do cliente, entre outros benefícios.\n"
      ],
      "metadata": {
        "id": "1Von1RB7Wmca"
      }
    },
    {
      "cell_type": "markdown",
      "source": [
        "## Busines Intelligence\n",
        "\n",
        "Data Warehouse (DW) e Business Intelligence (BI) são conceitos relacionados que descrevem sistemas e processos usados para coletar, organizar, armazenar e analisar dados de uma organização, a fim de obter insights e apoiar a tomada de decisões.\n",
        "\n",
        "Um Data Warehouse é um repositório centralizado de dados que integra informações de diversas fontes, como bancos de dados operacionais, sistemas transacionais e aplicativos. Ele é projetado para fornecer um ambiente otimizado para análise e consulta de dados. O DW é construído usando um modelo de dados específico, como o modelo dimensional, que permite a fácil navegação e agregação dos dados. Os dados são organizados em torno de assuntos relevantes para a organização, como vendas, clientes, produtos, entre outros.\n",
        "\n",
        "Por outro lado, Business Intelligence (BI) refere-se ao conjunto de técnicas, ferramentas e processos utilizados para transformar os dados armazenados no Data Warehouse em informações úteis para os usuários finais. O BI envolve a extração, transformação e carga (ETL) dos dados do Data Warehouse, a criação de relatórios, dashboards, análises e visualizações interativas. O objetivo do BI é fornecer insights acionáveis e suporte à tomada de decisões estratégicas, ajudando os usuários a entender padrões, tendências e métricas de desempenho.\n",
        "\n",
        "A integração entre Data Warehouse e Business Intelligence é fundamental para criar um ambiente analítico eficiente e fornecer informações valiosas para os usuários. O Data Warehouse fornece a base de dados consolidada e estruturada para a análise, enquanto o BI aproveita esses dados para fornecer insights acionáveis e relatórios personalizados. As ferramentas de BI também podem permitir a exploração ad-hoc dos dados, permitindo que os usuários façam perguntas e realizem análises de maneira interativa.\n"
      ],
      "metadata": {
        "id": "QhucaC3MZlD7"
      }
    },
    {
      "cell_type": "markdown",
      "source": [
        "## OLTP & OLAP\n",
        "\n",
        "OLTP (Online Transaction Processing) e OLAP (Online Analytical Processing) são dois tipos distintos de sistemas de processamento de dados que desempenham funções diferentes em uma organização.\n",
        "\n",
        "OLTP se refere a sistemas de processamento de transações online. Esses sistemas são projetados para gerenciar transações de rotina em tempo real, como inserção, atualização e exclusão de registros em um banco de dados transacional. O foco principal do OLTP é a eficiência operacional e a manutenção de dados precisos e atualizados para suportar as operações diárias de uma organização. Exemplos de aplicativos OLTP incluem sistemas de vendas, sistemas de gestão de estoque e sistemas de reservas.\n",
        "\n",
        "Já o OLAP se refere a sistemas de processamento analítico online. Esses sistemas são projetados para análise e consulta de dados de forma flexível e multidimensional. O OLAP lida com grandes volumes de dados históricos e permite que os usuários explorem informações de diferentes perspectivas, realizem análises complexas e gerem relatórios interativos. O objetivo do OLAP é fornecer insights estratégicos e apoiar a tomada de decisões. Exemplos de aplicativos OLAP incluem ferramentas de Business Intelligence (BI) que permitem análises de dados, dashboards interativos e relatórios personalizados.\n",
        "\n",
        "As principais diferenças entre OLTP e OLAP são:\n",
        "\n",
        "Finalidade: O OLTP é focado em transações e processamento de dados em tempo real, enquanto o OLAP é focado em análise e consulta de dados históricos.\n",
        "\n",
        "Natureza dos dados: O OLTP lida com dados operacionais detalhados e em tempo real, enquanto o OLAP lida com dados agregados e históricos.\n",
        "\n",
        "Design de banco de dados: O OLTP geralmente usa um modelo de banco de dados relacional normalizado, otimizado para transações, enquanto o OLAP usa um modelo dimensional, otimizado para análises multidimensionais.\n",
        "\n",
        "Consultas e análises: O OLTP suporta consultas simples e rápidas para operações diárias, enquanto o OLAP suporta consultas complexas e análises ad-hoc para descobrir insights estratégicos."
      ],
      "metadata": {
        "id": "V23OeIuxbroH"
      }
    },
    {
      "cell_type": "code",
      "execution_count": null,
      "metadata": {
        "id": "G6UkSCBIWdhf"
      },
      "outputs": [],
      "source": []
    }
  ]
}